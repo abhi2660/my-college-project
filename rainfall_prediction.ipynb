{
 "cells": [
  {
   "cell_type": "code",
   "execution_count": 5,
   "metadata": {},
   "outputs": [],
   "source": [
    "import pandas as pd\n",
    "import numpy as np"
   ]
  },
  {
   "cell_type": "code",
   "execution_count": 6,
   "metadata": {},
   "outputs": [
    {
     "name": "stdout",
     "output_type": "stream",
     "text": [
      "                    SUBDIVISION  YEAR   JAN    FEB   MAR    APR    MAY    JUN  \\\n",
      "0     ANDAMAN & NICOBAR ISLANDS  1901  49.2   87.1  29.2    2.3  528.8  517.5   \n",
      "1     ANDAMAN & NICOBAR ISLANDS  1902   0.0  159.8  12.2    0.0  446.1  537.1   \n",
      "2     ANDAMAN & NICOBAR ISLANDS  1903  12.7  144.0   0.0    1.0  235.1  479.9   \n",
      "3     ANDAMAN & NICOBAR ISLANDS  1904   9.4   14.7   0.0  202.4  304.5  495.1   \n",
      "4     ANDAMAN & NICOBAR ISLANDS  1905   1.3    0.0   3.3   26.9  279.5  628.7   \n",
      "...                         ...   ...   ...    ...   ...    ...    ...    ...   \n",
      "4111                LAKSHADWEEP  2011   5.1    2.8   3.1   85.9  107.2  153.6   \n",
      "4112                LAKSHADWEEP  2012  19.2    0.1   1.6   76.8   21.2  327.0   \n",
      "4113                LAKSHADWEEP  2013  26.2   34.4  37.5    5.3   88.3  426.2   \n",
      "4114                LAKSHADWEEP  2014  53.2   16.1   4.4   14.9   57.4  244.1   \n",
      "4115                LAKSHADWEEP  2015   2.2    0.5   3.7   87.1  133.1  296.6   \n",
      "\n",
      "        JUL    AUG    SEP    OCT    NOV    DEC  ANNUAL  Jan-Feb  Mar-May  \\\n",
      "0     365.1  481.1  332.6  388.5  558.2   33.6  3373.2    136.3    560.3   \n",
      "1     228.9  753.7  666.2  197.2  359.0  160.5  3520.7    159.8    458.3   \n",
      "2     728.4  326.7  339.0  181.2  284.4  225.0  2957.4    156.7    236.1   \n",
      "3     502.0  160.1  820.4  222.2  308.7   40.1  3079.6     24.1    506.9   \n",
      "4     368.7  330.5  297.0  260.7   25.4  344.7  2566.7      1.3    309.7   \n",
      "...     ...    ...    ...    ...    ...    ...     ...      ...      ...   \n",
      "4111  350.2  254.0  255.2  117.4  184.3   14.9  1533.7      7.9    196.2   \n",
      "4112  231.5  381.2  179.8  145.9   12.4    8.8  1405.5     19.3     99.6   \n",
      "4113  296.4  154.4  180.0   72.8   78.1   26.7  1426.3     60.6    131.1   \n",
      "4114  116.1  466.1  132.2  169.2   59.0   62.3  1395.0     69.3     76.7   \n",
      "4115  257.5  146.4  160.4  165.4  231.0  159.0  1642.9      2.7    223.9   \n",
      "\n",
      "      Jun-Sep  Oct-Dec  \n",
      "0      1696.3    980.3  \n",
      "1      2185.9    716.7  \n",
      "2      1874.0    690.6  \n",
      "3      1977.6    571.0  \n",
      "4      1624.9    630.8  \n",
      "...       ...      ...  \n",
      "4111   1013.0    316.6  \n",
      "4112   1119.5    167.1  \n",
      "4113   1057.0    177.6  \n",
      "4114    958.5    290.5  \n",
      "4115    860.9    555.4  \n",
      "\n",
      "[4116 rows x 19 columns]\n"
     ]
    }
   ],
   "source": [
    "df=pd.read_csv('C:\\\\Users\\\\Victus\\\\Downloads\\\\rainfall_area-wt_sd_1901-2015.csv')\n",
    "print(df)"
   ]
  },
  {
   "cell_type": "code",
   "execution_count": 7,
   "metadata": {},
   "outputs": [],
   "source": [
    "df=df.drop(columns=['YEAR'])"
   ]
  },
  {
   "cell_type": "code",
   "execution_count": 8,
   "metadata": {},
   "outputs": [
    {
     "name": "stdout",
     "output_type": "stream",
     "text": [
      "Index(['SUBDIVISION', 'JAN', 'FEB', 'MAR', 'APR', 'MAY', 'JUN', 'JUL', 'AUG',\n",
      "       'SEP', 'OCT', 'NOV', 'DEC', 'ANNUAL', 'Jan-Feb', 'Mar-May', 'Jun-Sep',\n",
      "       'Oct-Dec'],\n",
      "      dtype='object')\n"
     ]
    }
   ],
   "source": [
    "print(df.columns)"
   ]
  },
  {
   "cell_type": "code",
   "execution_count": 9,
   "metadata": {},
   "outputs": [
    {
     "name": "stdout",
     "output_type": "stream",
     "text": [
      "['ANDAMAN & NICOBAR ISLANDS' 'ARUNACHAL PRADESH' 'ASSAM & MEGHALAYA'\n",
      " 'NAGA MANI MIZO TRIPURA' 'SUB HIMALAYAN WEST BENGAL & SIKKIM'\n",
      " 'GANGETIC WEST BENGAL' 'ORISSA' 'JHARKHAND' 'BIHAR' 'EAST UTTAR PRADESH'\n",
      " 'WEST UTTAR PRADESH' 'UTTARAKHAND' 'HARYANA DELHI & CHANDIGARH' 'PUNJAB'\n",
      " 'HIMACHAL PRADESH' 'JAMMU & KASHMIR' 'WEST RAJASTHAN' 'EAST RAJASTHAN'\n",
      " 'WEST MADHYA PRADESH' 'EAST MADHYA PRADESH' 'GUJARAT REGION'\n",
      " 'SAURASHTRA & KUTCH' 'KONKAN & GOA' 'MADHYA MAHARASHTRA' 'MATATHWADA'\n",
      " 'VIDARBHA' 'CHHATTISGARH' 'COASTAL ANDHRA PRADESH' 'TELANGANA'\n",
      " 'RAYALSEEMA' 'TAMIL NADU' 'COASTAL KARNATAKA' 'NORTH INTERIOR KARNATAKA'\n",
      " 'SOUTH INTERIOR KARNATAKA' 'KERALA' 'LAKSHADWEEP']\n"
     ]
    }
   ],
   "source": [
    "unique_states = df['SUBDIVISION'].unique()\n",
    "print(unique_states)"
   ]
  },
  {
   "cell_type": "code",
   "execution_count": 10,
   "metadata": {},
   "outputs": [
    {
     "name": "stdout",
     "output_type": "stream",
     "text": [
      "0       Andaman & Nicobar Islands\n",
      "1       Andaman & Nicobar Islands\n",
      "2       Andaman & Nicobar Islands\n",
      "3       Andaman & Nicobar Islands\n",
      "4       Andaman & Nicobar Islands\n",
      "                  ...            \n",
      "4111                  Lakshadweep\n",
      "4112                  Lakshadweep\n",
      "4113                  Lakshadweep\n",
      "4114                  Lakshadweep\n",
      "4115                  Lakshadweep\n",
      "Name: SUBDIVISION, Length: 4116, dtype: object\n"
     ]
    }
   ],
   "source": [
    "df['SUBDIVISION'] = df['SUBDIVISION'].str.strip().str.title()\n",
    "print(df['SUBDIVISION'])"
   ]
  },
  {
   "cell_type": "code",
   "execution_count": 11,
   "metadata": {},
   "outputs": [
    {
     "name": "stdout",
     "output_type": "stream",
     "text": [
      "['Andaman & Nicobar Islands' 'Arunachal Pradesh' 'Assam & Meghalaya'\n",
      " 'Naga Mani Mizo Tripura' 'Sub Himalayan West Bengal & Sikkim'\n",
      " 'Gangetic West Bengal' 'Orissa' 'Jharkhand' 'Bihar' 'East Uttar Pradesh'\n",
      " 'West Uttar Pradesh' 'Uttarakhand' 'Haryana Delhi & Chandigarh' 'Punjab'\n",
      " 'Himachal Pradesh' 'Jammu & Kashmir' 'West Rajasthan' 'East Rajasthan'\n",
      " 'West Madhya Pradesh' 'East Madhya Pradesh' 'Gujarat Region'\n",
      " 'Saurashtra & Kutch' 'Konkan & Goa' 'Madhya Maharashtra' 'Matathwada'\n",
      " 'Vidarbha' 'Chhattisgarh' 'Coastal Andhra Pradesh' 'Telangana'\n",
      " 'Rayalseema' 'Tamil Nadu' 'Coastal Karnataka' 'North Interior Karnataka'\n",
      " 'South Interior Karnataka' 'Kerala' 'Lakshadweep']\n",
      "36\n"
     ]
    }
   ],
   "source": [
    "unique_states = df['SUBDIVISION'].unique()\n",
    "print(unique_states)\n",
    "\n",
    "print(df['SUBDIVISION'].nunique())"
   ]
  },
  {
   "cell_type": "code",
   "execution_count": 13,
   "metadata": {},
   "outputs": [],
   "source": [
    "year_mapping={\n",
    "    \n",
    " 'Andaman & Nicobar Islands': 1,'Arunachal Pradesh': 2,'Assam & Meghalaya': 3,'Naga Mani Mizo Tripura': 4,'Sub Himalayan West Bengal & Sikkim': 5,'Gangetic West Bengal': 6,'Orissa': 7,\n",
    " 'Jharkhand': 8,'Bihar': 9,'East Uttar Pradesh': 10,'West Uttar Pradesh': 11,'Uttarakhand': 12,'Haryana Delhi & Chandigarh': 13,'Punjab': 14,'Himachal Pradesh': 15,'Jammu & Kashmir': 16,\n",
    " 'West Rajasthan': 17,'East Rajasthan': 18,'West Madhya Pradesh': 19,'East Madhya Pradesh': 20,'Gujarat Region': 21,'Saurashtra & Kutch': 22,'Konkan & Goa': 23,'Madhya Maharashtra': 24,\n",
    " 'Matathwada': 25,'Vidarbha': 26,'Chhattisgarh': 27,'Coastal Andhra Pradesh': 28,'Telangana': 29,'Rayalseema': 30,'Tamil Nadu': 31,'Coastal Karnataka': 32,'North Interior Karnataka': 33,\n",
    " 'South Interior Karnataka': 34,'Kerala': 35,'Lakshadweep': 36\n",
    "}\n",
    "\n"
   ]
  },
  {
   "cell_type": "code",
   "execution_count": 14,
   "metadata": {},
   "outputs": [
    {
     "name": "stdout",
     "output_type": "stream",
     "text": [
      "0        1\n",
      "1        1\n",
      "2        1\n",
      "3        1\n",
      "4        1\n",
      "        ..\n",
      "4111    36\n",
      "4112    36\n",
      "4113    36\n",
      "4114    36\n",
      "4115    36\n",
      "Name: SUBDIVISION, Length: 4116, dtype: int32\n"
     ]
    }
   ],
   "source": [
    "df['SUBDIVISION'] = df['SUBDIVISION'].map(year_mapping).fillna(0)\n",
    "\n",
    "df['SUBDIVISION'] = df['SUBDIVISION'].astype(int)\n",
    "print(df['SUBDIVISION'])"
   ]
  },
  {
   "cell_type": "code",
   "execution_count": 15,
   "metadata": {},
   "outputs": [
    {
     "name": "stdout",
     "output_type": "stream",
     "text": [
      "      SUBDIVISION   JAN    FEB   MAR    APR    MAY    JUN    JUL    AUG  \\\n",
      "0               1  49.2   87.1  29.2    2.3  528.8  517.5  365.1  481.1   \n",
      "1               1   0.0  159.8  12.2    0.0  446.1  537.1  228.9  753.7   \n",
      "2               1  12.7  144.0   0.0    1.0  235.1  479.9  728.4  326.7   \n",
      "3               1   9.4   14.7   0.0  202.4  304.5  495.1  502.0  160.1   \n",
      "4               1   1.3    0.0   3.3   26.9  279.5  628.7  368.7  330.5   \n",
      "...           ...   ...    ...   ...    ...    ...    ...    ...    ...   \n",
      "4111           36   5.1    2.8   3.1   85.9  107.2  153.6  350.2  254.0   \n",
      "4112           36  19.2    0.1   1.6   76.8   21.2  327.0  231.5  381.2   \n",
      "4113           36  26.2   34.4  37.5    5.3   88.3  426.2  296.4  154.4   \n",
      "4114           36  53.2   16.1   4.4   14.9   57.4  244.1  116.1  466.1   \n",
      "4115           36   2.2    0.5   3.7   87.1  133.1  296.6  257.5  146.4   \n",
      "\n",
      "        SEP    OCT    NOV    DEC  ANNUAL  Jan-Feb  Mar-May  Jun-Sep  Oct-Dec  \n",
      "0     332.6  388.5  558.2   33.6  3373.2    136.3    560.3   1696.3    980.3  \n",
      "1     666.2  197.2  359.0  160.5  3520.7    159.8    458.3   2185.9    716.7  \n",
      "2     339.0  181.2  284.4  225.0  2957.4    156.7    236.1   1874.0    690.6  \n",
      "3     820.4  222.2  308.7   40.1  3079.6     24.1    506.9   1977.6    571.0  \n",
      "4     297.0  260.7   25.4  344.7  2566.7      1.3    309.7   1624.9    630.8  \n",
      "...     ...    ...    ...    ...     ...      ...      ...      ...      ...  \n",
      "4111  255.2  117.4  184.3   14.9  1533.7      7.9    196.2   1013.0    316.6  \n",
      "4112  179.8  145.9   12.4    8.8  1405.5     19.3     99.6   1119.5    167.1  \n",
      "4113  180.0   72.8   78.1   26.7  1426.3     60.6    131.1   1057.0    177.6  \n",
      "4114  132.2  169.2   59.0   62.3  1395.0     69.3     76.7    958.5    290.5  \n",
      "4115  160.4  165.4  231.0  159.0  1642.9      2.7    223.9    860.9    555.4  \n",
      "\n",
      "[4116 rows x 18 columns]\n"
     ]
    }
   ],
   "source": [
    "print(df)"
   ]
  },
  {
   "cell_type": "code",
   "execution_count": null,
   "metadata": {},
   "outputs": [],
   "source": []
  },
  {
   "cell_type": "code",
   "execution_count": 16,
   "metadata": {},
   "outputs": [],
   "source": [
    "import pickle\n",
    "\n"
   ]
  },
  {
   "cell_type": "code",
   "execution_count": 19,
   "metadata": {},
   "outputs": [],
   "source": [
    "with open('modified_df.pkl', 'wb') as f:\n",
    "    pickle.dump(df, f)"
   ]
  },
  {
   "cell_type": "code",
   "execution_count": null,
   "metadata": {},
   "outputs": [],
   "source": [
    "def rain_check(df,state):\n",
    "\n",
    "  filtered_df = df[df['SUBDIVISION'] == state]\n",
    "\n",
    "  # Step 2: Find the row with the maximum Score in the filtered DataFrame\n",
    "  max_row = filtered_df[filtered_df['ANNUAL'] == filtered_df['ANNUAL'].max()]\n",
    "\n",
    "  # print(max_row)\n",
    "  result_dict = max_row.to_dict(orient='records')\n",
    "  print(result_dict)\n",
    "\n",
    "# rain_check(df,1)\n",
    "\n",
    "# Pickle the function to a file\n",
    "with open('rain_check.pkl', 'wb') as f:\n",
    "    pickle.dump(rain_check, f)"
   ]
  }
 ],
 "metadata": {
  "kernelspec": {
   "display_name": "Python 3",
   "language": "python",
   "name": "python3"
  },
  "language_info": {
   "codemirror_mode": {
    "name": "ipython",
    "version": 3
   },
   "file_extension": ".py",
   "mimetype": "text/x-python",
   "name": "python",
   "nbconvert_exporter": "python",
   "pygments_lexer": "ipython3",
   "version": "3.11.5"
  }
 },
 "nbformat": 4,
 "nbformat_minor": 2
}
